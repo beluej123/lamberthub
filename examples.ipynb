{
 "cells": [
  {
   "cell_type": "markdown",
   "metadata": {},
   "source": [
    "# Solver Review\n"
   ]
  },
  {
   "cell_type": "code",
   "execution_count": 1,
   "metadata": {},
   "outputs": [
    {
     "name": "stdout",
     "output_type": "stream",
     "text": [
      "Current lamberthub version is 0.1\n"
     ]
    }
   ],
   "source": [
    "import lamberthub\n",
    "\n",
    "print(f\"Current lamberthub version is {lamberthub.__version__}\")"
   ]
  },
  {
   "cell_type": "code",
   "execution_count": 2,
   "metadata": {},
   "outputs": [
    {
     "name": "stdout",
     "output_type": "stream",
     "text": [
      "['gooding1990', 'avanzini2008', 'arora2013', 'izzo2015']\n",
      "Solver name: gooding1990\n",
      "Solver name: avanzini2008\n",
      "Solver name: arora2013\n",
      "Solver name: izzo2015\n"
     ]
    }
   ],
   "source": [
    "from lamberthub import ALL_SOLVERS\n",
    "\n",
    "# - list solvers\n",
    "print([solver.__name__ for solver in ALL_SOLVERS])\n",
    "solver_set = [solver.__name__ for solver in ALL_SOLVERS]\n",
    "for i in solver_set:\n",
    "    print(\"Solver name:\", i)\n"
   ]
  },
  {
   "cell_type": "code",
   "execution_count": 1,
   "metadata": {},
   "outputs": [
    {
     "name": "stdout",
     "output_type": "stream",
     "text": [
      "izzo2015:\n",
      "    initial velocity: [-9.303608    3.01862016  1.53636008] [AU / year]\n",
      "    final velocity: [-9.5111862   1.88884006  1.4213781 ] [AU / year]\n"
     ]
    }
   ],
   "source": [
    "# 2024-06-26, never figured a way to import vallado2013\n",
    "# import lamberthub.universal_solvers.vallado # does NOT work\n",
    "# from lamberthub.universal_solvers.vallado import vallado2013 # does NOT work\n",
    "# from src.lamberthub.universal_solvers.vallado import vallado2013 # does NOT work\n",
    "# import lamberthub # not needed\n",
    "from lamberthub import izzo2015 # this works\n",
    "\n",
    "# from lamberthub import ALL_SOLVERS\n",
    "import numpy as np # NumPy for declaring position vectors\n",
    "\n",
    "mu_sun = 39.47692641  # [AU ** 3 / year ** 2]\n",
    "r1 = np.array([0.159321004, 0.579266185, 0.052359607])  # [AU]\n",
    "r2 = np.array([0.057594337, 0.605750797, 0.068345246])  # [AU]\n",
    "tof = 0.010794065  # [year]\n",
    "\n",
    "# v1, v2 = vallado2013(mu_sun, r1, r2, tof) # this does NOT work\n",
    "v1, v2 = izzo2015(mu_sun, r1, r2, tof) # this works\n",
    "print(\n",
    "    f\"izzo2015:\\n    initial velocity: {v1} [AU / year]\\n    final velocity: {v2} [AU / year]\"\n",
    ")"
   ]
  },
  {
   "cell_type": "code",
   "execution_count": 2,
   "metadata": {},
   "outputs": [
    {
     "name": "stdout",
     "output_type": "stream",
     "text": [
      "gooding1990:\n",
      "    initial velocity: [-9.303608    3.01862016  1.53636008] [AU / years]\n",
      "    final velocity: [-9.5111862   1.88884006  1.4213781 ] [AU / years]\n",
      "avanzini2008:\n",
      "    initial velocity: [-9.303608    3.01862016  1.53636008] [AU / years]\n",
      "    final velocity: [-9.5111862   1.88884006  1.4213781 ] [AU / years]\n",
      "arora2013:\n",
      "    initial velocity: [-9.30360599  3.01861977  1.53635978] [AU / years]\n",
      "    final velocity: [-9.51118423  1.88883943  1.42137778] [AU / years]\n",
      "izzo2015:\n",
      "    initial velocity: [-9.303608    3.01862016  1.53636008] [AU / years]\n",
      "    final velocity: [-9.5111862   1.88884006  1.4213781 ] [AU / years]\n"
     ]
    }
   ],
   "source": [
    "# - Compare solitions between solution methods\n",
    "from lamberthub import ALL_SOLVERS\n",
    "\n",
    "# Import a solver of your choice from the ones listed above\n",
    "# from lamberthub import authorYYYY\n",
    "# v1, v2 = authorYYYY(mu, r1, r2, tof, prograde=True, low_path=True,\\\n",
    "#     maxiter=35, atol=1e-5, rtol=1e-7, full_output=False)\n",
    "from lamberthub import gooding1990, avanzini2008, arora2013, izzo2015\n",
    "import numpy as np  # - NumPy for declaring position vectors\n",
    "\n",
    "# - Problem initial conditions for each solution method\n",
    "#   From An Introduction to the Mathematics and Methods of Astrodynamics, revised edition\n",
    "#   by R.H. Battin, problem 7-12.\n",
    "mu_sun = 39.47692641  # [AU ** 3 / year ** 2]\n",
    "r1 = np.array([0.159321004, 0.579266185, 0.052359607])  # [AU]\n",
    "r2 = np.array([0.057594337, 0.605750797, 0.068345246])  # [AU]\n",
    "tof = 0.010794065  # [year]\n",
    "\n",
    "# - Compare solitions between solution methods.\n",
    "#   Commented out section manually calls solution method. Loop below calls each method.\n",
    "# v1, v2 = gooding1990(mu_sun, r1, r2, tof)\n",
    "# print(f\"gooding1990:\\n    initial velocity: {v1} [AU / years]\\n    final velocity: {v2} [AU / years]\")\n",
    "# v1, v2 = avanzini2008(mu_sun, r1, r2, tof)\n",
    "# print(f\"avanzini2008:\\n    initial velocity: {v1} [AU / years]\\n    final velocity: {v2} [AU / years]\")\n",
    "# v1, v2 = arora2013(mu_sun, r1, r2, tof)\n",
    "# print(f\"arora2013:\\n    initial velocity: {v1} [AU / years]\\n    final velocity: {v2} [AU / years]\")\n",
    "# v1, v2 = izzo2015(mu_sun, r1, r2, tof)\n",
    "# print(f\"izzo2015:\\n    initial velocity: {v1} [AU / years]\\n    final velocity: {v2} [AU / years]\")\n",
    "\n",
    "solver_set = [solver.__name__ for solver in ALL_SOLVERS]\n",
    "# - below, 2024-02-29, not sure I understand what globals() commmand does; but it gets the job done for now\n",
    "# - https://stackoverflow.com/questions/3061/calling-a-function-of-a-module-by-using-its-name-a-string\n",
    "for i in solver_set:\n",
    "    v1, v2 = globals()[i](mu_sun, r1, r2, tof)\n",
    "    print(\n",
    "        f\"{i}:\\n    initial velocity: {v1} [AU / years]\\n    final velocity: {v2} [AU / years]\"\n",
    "    )"
   ]
  },
  {
   "cell_type": "markdown",
   "metadata": {},
   "source": [
    "# Earth to Venus Mission\n"
   ]
  },
  {
   "cell_type": "code",
   "execution_count": 1,
   "metadata": {},
   "outputs": [
    {
     "name": "stdout",
     "output_type": "stream",
     "text": [
      "izzo2015:\n",
      "    initial velocity: [ 2.13703812 -4.68371903 -2.50892076] [AU / years]\n",
      "    final velocity: [3.38904525 6.40764365 3.25998621] [AU / years]\n",
      "converting velocity units:\n",
      "    transfer v at Earth: 27.14880277478502 km / s\n",
      "    transfer v at Venus: 37.67735791093143 km / s\n"
     ]
    }
   ],
   "source": [
    "# - AIAA Brown p.107\n",
    "from lamberthub import gooding1990, avanzini2008, arora2013, izzo2015\n",
    "import numpy as np  # - NumPy for declaring position vectors\n",
    "from astropy import units as u  # for units conversion\n",
    "\n",
    "\n",
    "# - vector angle for flight path angle; in next section\n",
    "def vec_angle_deg(a: np.ndarray, b: np.ndarray) -> float:\n",
    "    n_a = np.linalg.norm(a, axis=0)\n",
    "    n_b = np.linalg.norm(b, axis=0)\n",
    "    y = np.linalg.norm(n_b * a - n_a * b, axis=0)\n",
    "    x = np.linalg.norm(n_b * a + n_a * b, axis=0)\n",
    "    return np.rad2deg(2 * np.arctan2(y, x))\n",
    "\n",
    "\n",
    "# - Problem initial conditions taken from my skyfield program; SF-Ephemeris.ipynb\n",
    "mu_sun = 39.47692641  # [AU ** 3 / year ** 2]\n",
    "tof = 109 / 365.25  # time of flight [year]\n",
    "r1 = np.array([-0.95300372, -0.29020189, -0.12581142])  # earth position [AU]\n",
    "r2 = np.array([0.62867429, -0.31143088, -0.18011123])  # venus position [AU]\n",
    "\n",
    "v1, v2 = izzo2015(mu_sun, r1, r2, tof)\n",
    "print(\n",
    "    f\"izzo2015:\\n    initial velocity: {v1} [AU / years]\\n    final velocity: {v2} [AU / years]\"\n",
    ")\n",
    "\n",
    "# - convert units in preparation for COE conversion\n",
    "vUnits_Earth = (v1 * u.AU / u.year).to(u.km / u.s)\n",
    "vUnits_Venus = (v2 * u.AU / u.year).to(u.km / u.s)\n",
    "print(\"converting velocity units, with astropy:\")\n",
    "print(\"    transfer v at Earth:\", np.linalg.norm(vUnits_Earth))\n",
    "print(\"    transfer v at Venus:\", np.linalg.norm(vUnits_Venus))"
   ]
  },
  {
   "cell_type": "code",
   "execution_count": 5,
   "metadata": {},
   "outputs": [
    {
     "name": "stdout",
     "output_type": "stream",
     "text": [
      "launch flight path angle: -3.60643769572539\n",
      "arrive flight path angle: -4.504008404355915\n"
     ]
    }
   ],
   "source": [
    "# - flight path angle\n",
    "flightAngle_launch = vec_angle_deg(r1, v1)\n",
    "print(\"launch flight path angle:\", 90 - flightAngle_launch)\n",
    "flightAngle_arrive = vec_angle_deg(r2, v2)\n",
    "print(\"arrive flight path angle:\", 90 - flightAngle_arrive)"
   ]
  },
  {
   "cell_type": "markdown",
   "metadata": {},
   "source": [
    "# Earth to Mars Mission<font size=2>\n",
    "\n",
    "May want to review the workflow in the link below,  \n",
    "2024-03-04, https://letstalkscience.ca/sites/default/files/2021-02/trip-to-mars-solutions.pdf\n"
   ]
  },
  {
   "cell_type": "code",
   "execution_count": null,
   "metadata": {},
   "outputs": [],
   "source": [
    "# may be worth reviewing the rest of the code from the hyperlink above\n",
    "import numpy as np\n",
    "import astropy as ap\n",
    "import math\n",
    "from matplotlib import pyplot as plt\n",
    "import HelperFunctions as h\n",
    "\n",
    "## *** CELL 2.1  *** ##\n",
    "# 1) First Run the cell to see Earth's orbit!\n",
    "# This parameter is intialitizing the plot axis limits (see 'HelperFunctions.py' file to see how it's used)\n",
    "max_major = 0\n",
    "# Here we are calling to the python plotting library 'matplotlib' to intialize an empty figure of size 8x8\n",
    "fig, ax = plt.subplots(figsize=[8, 8])\n",
    "# Now we will call on helper code from our HelperFunctions, 'h' library.\n",
    "# 2) Try playing around with the 'e' parameter. REMEMBER: e has to be a number between 0 and 1\n",
    "# For example: you can try e=0.2, 0.4, 0.6, 0.8, 0.999, 1\n",
    "h.plot_orbit(major=1, e=0.0167, color=\"cyan\", ax=ax, max_major=max_major)\n",
    "# What value of e gives a perfect circle? What about a line?\n",
    "# 3) Try playing around with the 'major' parameter\n",
    "# 4) Uncomment the line below. For example: you can try major=0, 0.5, 1, 5, 10\n",
    "h.plot_orbit(major=1, e=0, color=\"indigo\", ax=ax, max_major=max_major)\n",
    "# What does the parameter 'major' control? (Hint: make sure to look at the axis values when you change major)"
   ]
  },
  {
   "cell_type": "markdown",
   "metadata": {},
   "source": [
    "# Convert R & V to COE (classic orbital elements) <font size=2>\n",
    "\n",
    "2024-02-29, https://orbital-mechanics.space/classical-orbital-elements/orbital-elements-and-the-state-vector.html  \n",
    "2024-03-01, kepler checkout, https://github.com/aerospaceresearch/orbitdeterminator/blob/master/orbitdeterminator/kep_determination/orbital_elements.py  \n",
    "2024-03-01, space system notes, https://github.com/kyleniemeyer/space-systems-notes  \n",
    "2024-03-01, reasonable theory, https://orbital-mechanics.space/intro/reference-frames.html\n"
   ]
  },
  {
   "cell_type": "code",
   "execution_count": 1,
   "metadata": {},
   "outputs": [
    {
     "name": "stdout",
     "output_type": "stream",
     "text": [
      "r= 150214569.72413105 [km], v= 29.75158374392637 [km/s]\n",
      "v_r= 0.40974729533555276 [km/s], v_p= 29.748762031819563 [km/s]\n"
     ]
    }
   ],
   "source": [
    "# Step 1—Position and Velocity Magnitudes\n",
    "import numpy as np\n",
    "\n",
    "# R & V earth data 1988-04-08 from Horizons (and skyfield)\n",
    "# r_vec = [-1.409206342323255E+08, 4.884114655615644E+07, 2.926503946314380E+04]\n",
    "# v_vec = [-1.039747672698875E+01, -2.820517858596729E+01, 2.495229861189330E-03]\n",
    "r_vec = [-1.42567328e08, -4.34135851e07, -1.88211204e07]  # - [km]\n",
    "v_vec = [8.98201364, -26.02254781, -11.28304798]  # - [km/s]\n",
    "# - R & V earth data 1988-04-08 from Curtis, p.212\n",
    "# r_vec = [-6045, -3490, 2500]  # [km]\n",
    "# v_vec = [-3.457, 6.618, 2.533]  #[km/s]\n",
    "# remember, double parentheses bundles things...\n",
    "# r_vec = np.array((-1.42019455e+08, -4.37089122e+07, -1.89514749e+07))  # [km]\n",
    "# v_vec = np.array((8.97691931, -26.01359291, -11.27913009))  # [km/s]\n",
    "# r_vec = np.array((1000, 5000, 7000))  # km\n",
    "# v_vec = np.array((3.0, 4.0, 5.0))  # km/s\n",
    "# mu = 3.98600e5  # [km^3/s^2], earth\n",
    "mu = 1.32712440018e11  # [km^3/s^2], sun\n",
    "\n",
    "r = np.linalg.norm(r_vec)\n",
    "v = np.linalg.norm(v_vec)\n",
    "v_r = np.dot(r_vec / r, v_vec)\n",
    "v_p = np.sqrt(v**2 - v_r**2)\n",
    "print(\"r=\", r, \"[km], v=\", v, \"[km/s]\")\n",
    "print(\"v_r=\", v_r, \"[km/s], v_p=\", v_p, \"[km/s]\")"
   ]
  },
  {
   "cell_type": "code",
   "execution_count": 2,
   "metadata": {},
   "outputs": [
    {
     "name": "stdout",
     "output_type": "stream",
     "text": [
      "h_vec= [ 6.40582203e+04 -1.77764556e+09  4.09990652e+09] h= 4468697488.435342\n"
     ]
    }
   ],
   "source": [
    "# - Step 2—Orbital Angular Momentum\n",
    "h_vec = np.cross(r_vec, v_vec)\n",
    "h = np.linalg.norm(h_vec)\n",
    "print(\"h_vec=\", h_vec, \"h=\", h)"
   ]
  },
  {
   "cell_type": "code",
   "execution_count": 3,
   "metadata": {},
   "outputs": [
    {
     "name": "stdout",
     "output_type": "stream",
     "text": [
      "inclination: 23.440685600809765 [deg]\n",
      "inclination: 0.40911714265895555 [rad]\n"
     ]
    }
   ],
   "source": [
    "# - Step 3—Inclination\n",
    "i = np.arccos(h_vec[2] / h)\n",
    "print(\"inclination:\", i * 180 / np.pi, \"[deg]\")\n",
    "print(\"inclination:\", i, \"[rad]\")"
   ]
  },
  {
   "cell_type": "code",
   "execution_count": 4,
   "metadata": {},
   "outputs": [
    {
     "name": "stdout",
     "output_type": "stream",
     "text": [
      "omega= 0.0020646780038813383 [deg]\n",
      "omega= 3.603542916123361e-05 [rad]\n",
      "Ny= 64058.22034680843\n"
     ]
    }
   ],
   "source": [
    "# - Step 4—Right Ascension of the Ascending Node\n",
    "K = np.array((0, 0, 1))\n",
    "N_vec = np.cross(K, h_vec)\n",
    "N = np.linalg.norm(N_vec)\n",
    "Omega = np.arccos(N_vec[0] / N)\n",
    "if N_vec[1] < 0:\n",
    "    Omega = 2 * np.pi - Omega\n",
    "print(\"omega=\", Omega * 180 / np.pi, \"[deg]\")\n",
    "print(\"omega=\", Omega, \"[rad]\")\n",
    "print(\"Ny=\", N_vec[1])"
   ]
  },
  {
   "cell_type": "code",
   "execution_count": 5,
   "metadata": {},
   "outputs": [
    {
     "name": "stdout",
     "output_type": "stream",
     "text": [
      "e_vec= [-0.00596073  0.01152226  0.00499594] \n",
      "e_mag= 0.013901516080398604\n"
     ]
    }
   ],
   "source": [
    "# - Step 5—Eccentricity\n",
    "# K = np.array((0, 0, 1))\n",
    "# N_vec = np.cross(K, h_vec)\n",
    "# N = np.linalg.norm(N_vec)\n",
    "# Omega = 2 * np.pi - np.arccos(N_vec[0] / N)\n",
    "\n",
    "# [section-5]\n",
    "e_vec = (np.cross(v_vec, h_vec) / mu) - (r_vec / r)\n",
    "e = np.linalg.norm(e_vec)\n",
    "\n",
    "print(\"e_vec=\", e_vec, \"\\ne_mag=\", e)"
   ]
  },
  {
   "cell_type": "code",
   "execution_count": 6,
   "metadata": {},
   "outputs": [],
   "source": [
    "# - Step 6—Argument of Periapsis\n",
    "omega = 2 * np.pi - np.arccos(np.dot(N_vec, e_vec) / (N * e))"
   ]
  },
  {
   "cell_type": "code",
   "execution_count": 7,
   "metadata": {},
   "outputs": [],
   "source": [
    "# - Step 7—True Anomaly\n",
    "nu = np.arccos(np.dot(r_vec / r, e_vec / e))"
   ]
  },
  {
   "cell_type": "code",
   "execution_count": 8,
   "metadata": {},
   "outputs": [],
   "source": [
    "# - Time Since Periapsis\n",
    "#   https://orbital-mechanics.space/time-since-periapsis-and-keplers-equation/time-since-periapsis.html"
   ]
  },
  {
   "cell_type": "markdown",
   "metadata": {},
   "source": [
    "### Misc Plotting<font size=2>\n"
   ]
  },
  {
   "cell_type": "code",
   "execution_count": null,
   "metadata": {},
   "outputs": [],
   "source": [
    "# Plotting the Earth and Jupiter orbits\n",
    "# 2024-03-04, seems to work except for the anitmation\n",
    "# https://stackoverflow.com/questions/72706445/python-animation-assumes-the-wrong-focal-point-of-an-ellipse-how-to-changet-it\n",
    "import numpy as np\n",
    "from matplotlib import pyplot as plt\n",
    "from matplotlib import animation, rc\n",
    "from matplotlib import rcParams\n",
    "\n",
    "Earth = plt.Circle((0, 0), radius=1.0, fill=False, color=\"blue\")\n",
    "Jupiter = plt.Circle(\n",
    "    (0, 0), radius=5.2, fill=False, color=\"green\", linewidth=2\n",
    ")\n",
    "\n",
    "# Moving Earth, Jupiter, and Spacecraft\n",
    "patch_E = plt.Circle((0.0, 0.0), radius=0.05, fill=True, color=\"blue\")\n",
    "patch_J = plt.Circle((0.0, 0.0), radius=0.14, fill=True, color=\"green\")\n",
    "patch_H = plt.Circle((0.0, 0.0), radius=0.03, fill=True, color=\"red\")\n",
    "\n",
    "# equations for the path calcualtion of the ellipse\n",
    "ra = 5.2  # orbits radius\n",
    "rp = 1.0  # units [AU] = astronomical units\n",
    "sun_const = 0.00029  # AU^3/ (days)^2\n",
    "a = (ra + rp) / 2  # semi major axis\n",
    "e = (ra - rp) / (ra + rp)  # eccentricity\n",
    "\n",
    "# 1AU = 149597870691 m\n",
    "Period = (\n",
    "    2 * np.pi * np.sqrt((a**3) / (sun_const))\n",
    ")  # Time it takes for a full ellipse path, the half\n",
    "# is for the transfer\n",
    "alpha = 180 - (\n",
    "    360 * Period / (2 * 4383)\n",
    ")  # angle for jupiter to be ahead for the transfer, 4383\n",
    "\n",
    "\n",
    "# days, the days it takes jupiter to orbit the sun, Period should be divided by 2\n",
    "def init():\n",
    "    patch_E.center = (0.0, 0.0)\n",
    "    ax.add_patch(patch_E)\n",
    "    patch_J.center = (0.0, 0.0)\n",
    "    ax.add_patch(patch_J)\n",
    "    patch_H.center = (0.0, 0.0)\n",
    "    ax.add_patch(patch_H)\n",
    "    return (\n",
    "        patch_E,\n",
    "        patch_J,\n",
    "        patch_H,\n",
    "    )\n",
    "\n",
    "\n",
    "def animate(i):  # Animation function, i*10 makes the animation faster\n",
    "    # Earth\n",
    "    x_E, y_E = patch_E.center\n",
    "    x_E = np.cos((2 * np.pi / 365.2) * i * 10)\n",
    "    y_E = np.sin((2 * np.pi / 365.2) * i * 10)\n",
    "    patch_E.center = (x_E, y_E)\n",
    "    # Jupiter\n",
    "    x_J, y_J = patch_J.center\n",
    "    x_J = 5.2 * np.cos((2 * np.pi / 4383) * i * 10 + (np.pi * alpha / 180.0))\n",
    "    y_J = 5.2 * np.sin((2 * np.pi / 4383) * i * 10 + (np.pi * alpha / 180.0))\n",
    "    patch_J.center = (x_J, y_J)\n",
    "    # Hohmann\n",
    "    # Ellipse Equation r(ß) = a*(1 - e^2)/(1 + e*cos (ß))\n",
    "    x_H = (\n",
    "        a\n",
    "        * (1.0 - e**2)\n",
    "        / (1.0 + e * np.cos((2 * np.pi / Period) * i * 10))\n",
    "        * np.cos((2 * np.pi / Period) * i * 10)\n",
    "    )\n",
    "    y_H = (\n",
    "        a\n",
    "        * (1.0 - e**2)\n",
    "        / (1.0 + e * np.cos((2 * np.pi / Period) * i * 10))\n",
    "        * np.sin((2 * np.pi / Period) * i * 10)\n",
    "    )\n",
    "    patch_H.center = (x_H, y_H)\n",
    "    return (\n",
    "        patch_E,\n",
    "        patch_J,\n",
    "        patch_H,\n",
    "    )\n",
    "\n",
    "\n",
    "rcParams[\"animation.convert_path\"] = r\"C:\\Program Files\\ImageMagick\\convert\"\n",
    "rcParams[\"animation.ffmpeg_path\"] = (\n",
    "    r\"C:\\FFmpeg\\bin\\ffmpeg.exe\"  # converting the animation into a gif\n",
    ")\n",
    "fig, ax = plt.subplots(\n",
    "    figsize=(12, 10)\n",
    ")  # config and plots the whole animation\n",
    "\n",
    "fig.subplots_adjust(left=0.15, bottom=0.16, right=0.99, top=0.97)\n",
    "ax.set_facecolor(\"black\")\n",
    "ax.plot(\n",
    "    0,\n",
    "    0,\n",
    "    color=\"orange\",\n",
    "    marker=\"o\",\n",
    "    linestyle=\"\",\n",
    "    markersize=16,\n",
    "    markerfacecolor=\"yellow\",\n",
    "    label=\"Sun\",\n",
    ")\n",
    "ax.plot([], [], color=\"blue\", linestyle=\"\", marker=\"o\", label=\"Earth\")\n",
    "ax.plot([], [], color=\"green\", linestyle=\"\", marker=\"o\", label=\"Jupiter\")\n",
    "ax.plot([], [], color=\"red\", linestyle=\"\", marker=\"o\", label=\"spacecraft\")\n",
    "ax.add_patch(Earth)  # puts the on the corner the labes\n",
    "ax.add_patch(Jupiter)\n",
    "ax.set_xlabel(\"X [AU]\", fontsize=12)\n",
    "ax.set_ylabel(\"Y [AU]\", fontsize=12)\n",
    "ax.legend(loc=\"best\", fontsize=12)\n",
    "anim = animation.FuncAnimation(\n",
    "    fig, func=animate, init_func=init, frames=360, interval=10, blit=True\n",
    ")  # animates the code frames = 200\n",
    "plt.axis(\"scaled\")  # Scale the plot in real time\n",
    "# anim.save('Hohmann_Jupiter.gif', writer='imagemagick', fps = 60, bitrate=1800 ) # saves the\n",
    "# animation as gif\n",
    "\n",
    "plt.show()"
   ]
  },
  {
   "cell_type": "markdown",
   "metadata": {},
   "source": [
    "# Convert COE to R & V<font size=2>\n",
    "\n",
    "2024-03-04, resetta code, https://rosettacode.org/wiki/Orbital_elements#Python  \n",
    "When neglecting the influence of other objects, two celestial bodies orbit one another along a conic trajectory. In the orbital plane, the polar equation is thus:\n",
    "\n",
    "r = L/(1 + e cos(angle))\n",
    "\n",
    "L , e and angle are respectively called semi-latus rectum, eccentricity and true anomaly. The eccentricity and the true anomaly are two of the six so-called orbital elements often used to specify an orbit and the position of a point on this orbit.\n",
    "\n",
    "The four other parameters are the semi-major axis, the longitude of the ascending node, the inclination and the argument of periapsis. An other parameter, called the gravitational parameter, along with dynamical considerations described further, also allows for the determination of the speed of the orbiting object.\n",
    "\n",
    "The semi-major axis is half the distance between perihelion and aphelion. It is often noted a, and it's not too hard to see how it's related to the semi-latus-rectum:\n",
    "\n",
    "a = L/(1 - e2)\n",
    "\n",
    "The longitude of the ascending node, the inclination and the argument of the periapsis specify the orientation of the orbiting plane with respect to a reference plane defined with three arbitrarily chosen reference distant stars.\n",
    "\n",
    "The gravitational parameter is the coefficent GM in Newton's gravitational force. It is sometimes noted µ and will be chosen as one here for the sake of simplicity:\n",
    "\n",
    "µ = GM = 1\n",
    "\n",
    "As mentioned, dynamical considerations allow for the determination of the speed. They result in the so-called vis-viva equation:\n",
    "\n",
    "v2 = GM(2/r - 1/a)\n",
    "\n",
    "This only gives the magnitude of the speed. The direction is easily determined since it's tangent to the conic.\n",
    "\n",
    "Those parameters allow for the determination of both the position and the speed of the orbiting object in cartesian coordinates, those two vectors constituting the so-called orbital state vectors.\n",
    "\n",
    "Task\n",
    "Show how to perform this conversion from orbital elements to orbital state vectors in your programming language.\n"
   ]
  },
  {
   "cell_type": "code",
   "execution_count": 11,
   "metadata": {},
   "outputs": [
    {
     "ename": "TypeError",
     "evalue": "unsupported operand type(s) for /: 'Vector' and 'float'",
     "output_type": "error",
     "traceback": [
      "\u001b[1;31m---------------------------------------------------------------------------\u001b[0m",
      "\u001b[1;31mTypeError\u001b[0m                                 Traceback (most recent call last)",
      "Cell \u001b[1;32mIn[11], line 72\u001b[0m\n\u001b[0;32m     68\u001b[0m     speed \u001b[38;5;241m=\u001b[39m speed \u001b[38;5;241m*\u001b[39m math\u001b[38;5;241m.\u001b[39msqrt(\u001b[38;5;241m2.0\u001b[39m \u001b[38;5;241m/\u001b[39m r \u001b[38;5;241m-\u001b[39m \u001b[38;5;241m1.0\u001b[39m \u001b[38;5;241m/\u001b[39m semimajorAxis)\n\u001b[0;32m     70\u001b[0m     \u001b[38;5;28;01mreturn\u001b[39;00m [position, speed]\n\u001b[1;32m---> 72\u001b[0m ps \u001b[38;5;241m=\u001b[39m \u001b[43morbitalStateVectors\u001b[49m\u001b[43m(\u001b[49m\u001b[38;5;241;43m1.0\u001b[39;49m\u001b[43m,\u001b[49m\u001b[43m \u001b[49m\u001b[38;5;241;43m0.1\u001b[39;49m\u001b[43m,\u001b[49m\u001b[43m \u001b[49m\u001b[38;5;241;43m0.0\u001b[39;49m\u001b[43m,\u001b[49m\u001b[43m \u001b[49m\u001b[38;5;241;43m355.0\u001b[39;49m\u001b[43m \u001b[49m\u001b[38;5;241;43m/\u001b[39;49m\u001b[43m \u001b[49m\u001b[43m(\u001b[49m\u001b[38;5;241;43m113.0\u001b[39;49m\u001b[43m \u001b[49m\u001b[38;5;241;43m*\u001b[39;49m\u001b[43m \u001b[49m\u001b[38;5;241;43m6.0\u001b[39;49m\u001b[43m)\u001b[49m\u001b[43m,\u001b[49m\u001b[43m \u001b[49m\u001b[38;5;241;43m0.0\u001b[39;49m\u001b[43m,\u001b[49m\u001b[43m \u001b[49m\u001b[38;5;241;43m0.0\u001b[39;49m\u001b[43m)\u001b[49m\n\u001b[0;32m     73\u001b[0m \u001b[38;5;28mprint\u001b[39m(\u001b[38;5;124m\"\u001b[39m\u001b[38;5;124mPosition :\u001b[39m\u001b[38;5;124m\"\u001b[39m, ps[\u001b[38;5;241m0\u001b[39m])\n\u001b[0;32m     74\u001b[0m \u001b[38;5;28mprint\u001b[39m(\u001b[38;5;124m\"\u001b[39m\u001b[38;5;124mSpeed    :\u001b[39m\u001b[38;5;124m\"\u001b[39m, ps[\u001b[38;5;241m1\u001b[39m])\n",
      "Cell \u001b[1;32mIn[11], line 67\u001b[0m, in \u001b[0;36morbitalStateVectors\u001b[1;34m(semimajorAxis, eccentricity, inclination, longitudeOfAscendingNode, argumentOfPeriapsis, trueAnomaly)\u001b[0m\n\u001b[0;32m     65\u001b[0m position \u001b[38;5;241m=\u001b[39m mulAdd(i, c, j, s) \u001b[38;5;241m*\u001b[39m r\n\u001b[0;32m     66\u001b[0m speed \u001b[38;5;241m=\u001b[39m mulAdd(i, rprime \u001b[38;5;241m*\u001b[39m c \u001b[38;5;241m-\u001b[39m r \u001b[38;5;241m*\u001b[39m s, j, rprime \u001b[38;5;241m*\u001b[39m s \u001b[38;5;241m+\u001b[39m r \u001b[38;5;241m*\u001b[39m c)\n\u001b[1;32m---> 67\u001b[0m speed \u001b[38;5;241m=\u001b[39m \u001b[43mspeed\u001b[49m\u001b[43m \u001b[49m\u001b[38;5;241;43m/\u001b[39;49m\u001b[43m \u001b[49m\u001b[43mspeed\u001b[49m\u001b[38;5;241;43m.\u001b[39;49m\u001b[43mabs\u001b[49m\u001b[43m(\u001b[49m\u001b[43m)\u001b[49m\n\u001b[0;32m     68\u001b[0m speed \u001b[38;5;241m=\u001b[39m speed \u001b[38;5;241m*\u001b[39m math\u001b[38;5;241m.\u001b[39msqrt(\u001b[38;5;241m2.0\u001b[39m \u001b[38;5;241m/\u001b[39m r \u001b[38;5;241m-\u001b[39m \u001b[38;5;241m1.0\u001b[39m \u001b[38;5;241m/\u001b[39m semimajorAxis)\n\u001b[0;32m     70\u001b[0m \u001b[38;5;28;01mreturn\u001b[39;00m [position, speed]\n",
      "\u001b[1;31mTypeError\u001b[0m: unsupported operand type(s) for /: 'Vector' and 'float'"
     ]
    }
   ],
   "source": [
    "# Convert\n",
    "import math\n",
    "\n",
    "\n",
    "class Vector:\n",
    "    def __init__(self, x, y, z):\n",
    "        self.x = x\n",
    "        self.y = y\n",
    "        self.z = z\n",
    "\n",
    "    def __add__(self, other):\n",
    "        return Vector(self.x + other.x, self.y + other.y, self.z + other.z)\n",
    "\n",
    "    def __mul__(self, other):\n",
    "        return Vector(self.x * other, self.y * other, self.z * other)\n",
    "\n",
    "    def __div__(self, other):\n",
    "        return Vector(self.x / other, self.y / other, self.z / other)\n",
    "\n",
    "    def __str__(self):\n",
    "        return \"({x}, {y}, {z})\".format(x=self.x, y=self.y, z=self.z)\n",
    "\n",
    "    def abs(self):\n",
    "        return math.sqrt(self.x * self.x + self.y * self.y + self.z * self.z)\n",
    "\n",
    "\n",
    "def mulAdd(v1, x1, v2, x2):\n",
    "    return v1 * x1 + v2 * x2\n",
    "\n",
    "\n",
    "def rotate(i, j, alpha):\n",
    "    return [\n",
    "        mulAdd(i, math.cos(alpha), j, math.sin(alpha)),\n",
    "        mulAdd(i, -math.sin(alpha), j, math.cos(alpha)),\n",
    "    ]\n",
    "\n",
    "\n",
    "def orbitalStateVectors(\n",
    "    semimajorAxis,\n",
    "    eccentricity,\n",
    "    inclination,\n",
    "    longitudeOfAscendingNode,\n",
    "    argumentOfPeriapsis,\n",
    "    trueAnomaly,\n",
    "):\n",
    "    i = Vector(1, 0, 0)\n",
    "    j = Vector(0, 1, 0)\n",
    "    k = Vector(0, 0, 1)\n",
    "\n",
    "    p = rotate(i, j, longitudeOfAscendingNode)\n",
    "    i = p[0]\n",
    "    j = p[1]\n",
    "    p = rotate(j, k, inclination)\n",
    "    j = p[0]\n",
    "    p = rotate(i, j, argumentOfPeriapsis)\n",
    "    i = p[0]\n",
    "    j = p[1]\n",
    "\n",
    "    l = 2.0 if (eccentricity == 1.0) else 1.0 - eccentricity * eccentricity\n",
    "    l *= semimajorAxis\n",
    "    c = math.cos(trueAnomaly)\n",
    "    s = math.sin(trueAnomaly)\n",
    "    r = 1 / (1.0 + eccentricity * c)\n",
    "    rprime = s * r * r / l\n",
    "    position = mulAdd(i, c, j, s) * r\n",
    "    speed = mulAdd(i, rprime * c - r * s, j, rprime * s + r * c)\n",
    "    speed = speed / speed.abs()\n",
    "    speed = speed * math.sqrt(2.0 / r - 1.0 / semimajorAxis)\n",
    "\n",
    "    return [position, speed]\n",
    "\n",
    "\n",
    "ps = orbitalStateVectors(1.0, 0.1, 0.0, 355.0 / (113.0 * 6.0), 0.0, 0.0)\n",
    "print(\"Position :\", ps[0])\n",
    "print(\"Speed    :\", ps[1])"
   ]
  }
 ],
 "metadata": {
  "kernelspec": {
   "display_name": ".venv",
   "language": "python",
   "name": "python3"
  },
  "language_info": {
   "codemirror_mode": {
    "name": "ipython",
    "version": 3
   },
   "file_extension": ".py",
   "mimetype": "text/x-python",
   "name": "python",
   "nbconvert_exporter": "python",
   "pygments_lexer": "ipython3",
   "version": "3.12.3"
  }
 },
 "nbformat": 4,
 "nbformat_minor": 2
}
